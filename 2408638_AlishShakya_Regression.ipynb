{
  "nbformat": 4,
  "nbformat_minor": 0,
  "metadata": {
    "colab": {
      "provenance": []
    },
    "kernelspec": {
      "name": "python3",
      "display_name": "Python 3"
    },
    "language_info": {
      "name": "python"
    }
  },
  "cells": [
    {
      "cell_type": "markdown",
      "source": [
        "Student Name : Alish shakya\n",
        "\n",
        "University ID : 2408638\n",
        "\n",
        "Dataset Source: Food Delivery TIme Data. The dataset was created by Den_Kuznetz in the year 2024.\n",
        "The dataset can be accessed through the following Kaggle link: https://www.kaggle.com/datasets/denkuznetz/food-delivery-time-prediction.\n",
        "\n",
        "##About Dataset\n",
        "\n",
        "This dataset is designed for predicting food delivery times based on various influencing factors such as distance, weather, traffic conditions, and time of day. It offers a practical and engaging challenge for machine learning practitioners, especially those interested in logistics and operations research.\n",
        "\n",
        "##Alignment with Real-World Applications\n",
        "\n",
        "The dataset supports advancements in logistics and operational efficiency by:\n",
        "Identifying key factors affecting food delivery times.\n",
        "\n",
        "Helping businesses optimize their delivery routes and resource allocation.\n",
        "Improving customer experience through better estimated delivery times.\n",
        "Enhancing decision-making for restaurant and delivery service providers.\n",
        "\n",
        "##Key Features\n",
        "\n",
        "Order ID\n",
        "\n",
        "Distance\n",
        "\n",
        "Weather Conditions\n",
        "\n",
        "Traffic Levels\n",
        "\n",
        "Time of Day\n",
        "\n",
        "Vehicle Type\n",
        "\n",
        "Preparation Time\n",
        "\n",
        "Courier Experience\n",
        "\n",
        "Delivery Time (Target Variable)\n"
      ],
      "metadata": {
        "id": "amUARoAA7lW7"
      }
    },
    {
      "cell_type": "code",
      "execution_count": null,
      "metadata": {
        "id": "QgcvVAoi7Bdi"
      },
      "outputs": [],
      "source": [
        "import pandas as pd\n",
        "import numpy as np\n",
        "import matplotlib.pyplot as plt\n",
        "import seaborn as sns"
      ]
    },
    {
      "cell_type": "code",
      "source": [
        "df = pd.read_csv('/content/drive/MyDrive/Concept_and_Technology_of_Ai/Coursework/Regression/Food_Delivery_Times.csv')\n",
        "df.head()\n",
        "df.info()"
      ],
      "metadata": {
        "id": "YO8aw6gq8Dq6",
        "colab": {
          "base_uri": "https://localhost:8080/"
        },
        "outputId": "c7bc37be-3733-4225-b3e5-009d37c34635"
      },
      "execution_count": null,
      "outputs": [
        {
          "output_type": "stream",
          "name": "stdout",
          "text": [
            "<class 'pandas.core.frame.DataFrame'>\n",
            "RangeIndex: 1000 entries, 0 to 999\n",
            "Data columns (total 9 columns):\n",
            " #   Column                  Non-Null Count  Dtype  \n",
            "---  ------                  --------------  -----  \n",
            " 0   Order_ID                1000 non-null   int64  \n",
            " 1   Distance_km             1000 non-null   float64\n",
            " 2   Weather                 970 non-null    object \n",
            " 3   Traffic_Level           970 non-null    object \n",
            " 4   Time_of_Day             970 non-null    object \n",
            " 5   Vehicle_Type            1000 non-null   object \n",
            " 6   Preparation_Time_min    1000 non-null   int64  \n",
            " 7   Courier_Experience_yrs  970 non-null    float64\n",
            " 8   Delivery_Time_min       1000 non-null   int64  \n",
            "dtypes: float64(2), int64(3), object(4)\n",
            "memory usage: 70.4+ KB\n"
          ]
        }
      ]
    },
    {
      "cell_type": "code",
      "source": [
        "# Check for missing values\n",
        "missing_values = df.isnull().sum()\n",
        "print(missing_values[missing_values > 0])"
      ],
      "metadata": {
        "colab": {
          "base_uri": "https://localhost:8080/"
        },
        "id": "oUfflqY_9u6R",
        "outputId": "31486f4c-8c04-479e-b76e-0ae99283dc86"
      },
      "execution_count": null,
      "outputs": [
        {
          "output_type": "stream",
          "name": "stdout",
          "text": [
            "Weather                   30\n",
            "Traffic_Level             30\n",
            "Time_of_Day               30\n",
            "Courier_Experience_yrs    30\n",
            "dtype: int64\n"
          ]
        }
      ]
    },
    {
      "cell_type": "code",
      "source": [
        "df = df.drop(columns=['Order_ID'])\n",
        "df['Courier_Experience_yrs'].fillna(df['Courier_Experience_yrs'].mean(), inplace=True)"
      ],
      "metadata": {
        "colab": {
          "base_uri": "https://localhost:8080/"
        },
        "id": "XQfm8RaywtaI",
        "outputId": "74969b3f-829e-41e2-d493-19a4911b8310"
      },
      "execution_count": null,
      "outputs": [
        {
          "output_type": "stream",
          "name": "stderr",
          "text": [
            "<ipython-input-108-79fe516261fb>:2: FutureWarning: A value is trying to be set on a copy of a DataFrame or Series through chained assignment using an inplace method.\n",
            "The behavior will change in pandas 3.0. This inplace method will never work because the intermediate object on which we are setting values always behaves as a copy.\n",
            "\n",
            "For example, when doing 'df[col].method(value, inplace=True)', try using 'df.method({col: value}, inplace=True)' or df[col] = df[col].method(value) instead, to perform the operation inplace on the original object.\n",
            "\n",
            "\n",
            "  df['Courier_Experience_yrs'].fillna(df['Courier_Experience_yrs'].mean(), inplace=True)\n"
          ]
        }
      ]
    },
    {
      "cell_type": "code",
      "source": [
        "print(\"Summary Statistics:\")\n",
        "print(df.describe())"
      ],
      "metadata": {
        "colab": {
          "base_uri": "https://localhost:8080/"
        },
        "id": "9hhtpKdj9ygX",
        "outputId": "6a142c21-c552-4229-8768-c37c5ad8742a"
      },
      "execution_count": null,
      "outputs": [
        {
          "output_type": "stream",
          "name": "stdout",
          "text": [
            "Summary Statistics:\n",
            "       Distance_km  Preparation_Time_min  Courier_Experience_yrs  \\\n",
            "count  1000.000000           1000.000000             1000.000000   \n",
            "mean     10.059970             16.982000                4.579381   \n",
            "std       5.696656              7.204553                2.870301   \n",
            "min       0.590000              5.000000                0.000000   \n",
            "25%       5.105000             11.000000                2.000000   \n",
            "50%      10.190000             17.000000                4.579381   \n",
            "75%      15.017500             23.000000                7.000000   \n",
            "max      19.990000             29.000000                9.000000   \n",
            "\n",
            "       Delivery_Time_min  \n",
            "count        1000.000000  \n",
            "mean           56.732000  \n",
            "std            22.070915  \n",
            "min             8.000000  \n",
            "25%            41.000000  \n",
            "50%            55.500000  \n",
            "75%            71.000000  \n",
            "max           153.000000  \n"
          ]
        }
      ]
    },
    {
      "cell_type": "code",
      "source": [
        "df.dropna(subset=['Weather', 'Traffic_Level', 'Time_of_Day'], inplace=True)"
      ],
      "metadata": {
        "id": "ZwIc95Vl8oGU"
      },
      "execution_count": null,
      "outputs": []
    },
    {
      "cell_type": "code",
      "source": [
        "plt.figure(figsize=(8,6))\n",
        "plt.hist(df['Preparation_Time_min'], bins=10, color='lightblue', edgecolor='black')\n",
        "plt.title(\"Histogram of Preparation Time Frequency\")\n",
        "plt.xlabel(\"Preparation Time\")\n",
        "plt.ylabel(\"Frequency\")\n",
        "plt.show()\n",
        "# Insight: Histograms help reveal the distribution"
      ],
      "metadata": {
        "colab": {
          "base_uri": "https://localhost:8080/",
          "height": 564
        },
        "id": "bQ5VeMTf90CU",
        "outputId": "2a1adf49-fc88-4396-c070-653e9711e4ac"
      },
      "execution_count": null,
      "outputs": [
        {
          "output_type": "display_data",
          "data": {
            "text/plain": [
              "<Figure size 800x600 with 1 Axes>"
            ],
            "image/png": "[encoded data removed]"
          },
          "metadata": {}
        }
      ]
    },
    {
      "cell_type": "code",
      "source": [
        "# Impute missing values with column means for numeric columns\n",
        "for column in df.select_dtypes(include=[np.number]).columns:\n",
        "    df[column] = df[column].fillna(df[column].mean())\n",
        "print(\"Missing values after dropping rows:\")\n",
        "print(df.isnull().sum())"
      ],
      "metadata": {
        "colab": {
          "base_uri": "https://localhost:8080/"
        },
        "id": "qeAZU0MA96Ud",
        "outputId": "f0a2f5a6-8ae2-4dad-ec99-97eb8e476e7d"
      },
      "execution_count": null,
      "outputs": [
        {
          "output_type": "stream",
          "name": "stdout",
          "text": [
            "Missing values after dropping rows:\n",
            "Distance_km               0\n",
            "Weather                   0\n",
            "Traffic_Level             0\n",
            "Time_of_Day               0\n",
            "Vehicle_Type              0\n",
            "Preparation_Time_min      0\n",
            "Courier_Experience_yrs    0\n",
            "Delivery_Time_min         0\n",
            "dtype: int64\n"
          ]
        }
      ]
    },
    {
      "cell_type": "code",
      "source": [
        "# Define numeric_cols to include only numeric columns\n",
        "numeric_cols = ['Distance_km', 'Preparation_Time_min', 'Courier_Experience_yrs', 'Delivery_Time_min']\n",
        "\n",
        "for column in numeric_cols:\n",
        "    Q1 = df[column].quantile(0.25)\n",
        "    Q3 = df[column].quantile(0.75)\n",
        "    IQR = Q3 - Q1\n",
        "    outliers = df[(df[column] < (Q1 - 1.5 * IQR)) | (df[column] > (Q3 + 1.5 * IQR))][column]\n",
        "    if len(outliers) > 0:\n",
        "        print(f\"\\nOutliers in {column}: {len(outliers)} ({(len(outliers)/len(df)*100):.2f}%)\")"
      ],
      "metadata": {
        "colab": {
          "base_uri": "https://localhost:8080/"
        },
        "id": "vhrvJ73z98EC",
        "outputId": "698e2789-6a9a-4d60-d761-45c2f9c7fe0a"
      },
      "execution_count": null,
      "outputs": [
        {
          "output_type": "stream",
          "name": "stdout",
          "text": [
            "\n",
            "Outliers in Delivery_Time_min: 4 (0.44%)\n"
          ]
        }
      ]
    },
    {
      "cell_type": "code",
      "source": [
        "# Correlation Heatmap\n",
        "df_numeric = df.drop(columns=['Weather', 'Vehicle_Type', 'Traffic_Level', 'Time_of_Day'])  # Drop 'Time_of_Day' column\n",
        "# Ensure only numerical features are used for correlation:\n",
        "df_numeric = df_numeric.select_dtypes(include=np.number)\n",
        "\n",
        "plt.figure(figsize=(10, 8))\n",
        "sns.heatmap(df_numeric.corr(), annot=True, cmap='coolwarm', center=0)\n",
        "plt.title('Correlation Heatmap of numerical attributes')\n",
        "plt.show()"
      ],
      "metadata": {
        "id": "DdOnwERp-CVl",
        "colab": {
          "base_uri": "https://localhost:8080/",
          "height": 848
        },
        "outputId": "26a4b72b-a122-4a02-8939-2ae4c1ad7d0e"
      },
      "execution_count": null,
      "outputs": [
        {
          "output_type": "display_data",
          "data": {
            "text/plain": [
              "<Figure size 1000x800 with 2 Axes>"
            ],
            "image/png": "[encoded data removed]"
          },
          "metadata": {}
        }
      ]
    },
    {
      "cell_type": "code",
      "source": [
        "sns.lmplot(x='Courier_Experience_yrs', y='Delivery_Time_min', data=df, line_kws={'color': 'red'})\n",
        "plt.title('Linearity between Courier Experience in years and Delivery Time')\n",
        "plt.show()"
      ],
      "metadata": {
        "colab": {
          "base_uri": "https://localhost:8080/",
          "height": 529
        },
        "id": "ePs6lRE0xlKs",
        "outputId": "a93927bc-8d01-40a0-c8f5-3bfa344b2ab3"
      },
      "execution_count": null,
      "outputs": [
        {
          "output_type": "display_data",
          "data": {
            "text/plain": [
              "<Figure size 500x500 with 1 Axes>"
            ],
            "image/png": "[encoded data removed]"
          },
          "metadata": {}
        }
      ]
    },
    {
      "cell_type": "markdown",
      "source": [
        "##From Scratch Linear Regression\n"
      ],
      "metadata": {
        "id": "ZMCe6SDCyzsv"
      }
    },
    {
      "cell_type": "code",
      "source": [
        "def train_test_split_scratch(x,y,test_size = 0.3, random_seed = 42):\n",
        "  \"\"\" Parameters:\n",
        "  This function split dataset into train and test sets.\n",
        "  Input parameters:\n",
        "  x: Feature Matrix\n",
        "  y: Target Matrix\n",
        "  test_size: Size of Test Set between 0 to 1\n",
        "  random_seed: Random Seed\n",
        "  Output Parameters:\n",
        "  x_train: Feature Matrix Train Set.\n",
        "  x_test: Feature Matrix Test Set.\n",
        "  y_train: Target Matrix Train Set.\n",
        "  y_test: Target Matrix Test Set.\n",
        "  \"\"\"\n",
        "  np.random.seed(random_seed)\n",
        "  indices = np.arange(x.shape[0])\n",
        "  np.random.shuffle(indices)\n",
        "\n",
        "  test_split_size = int(len(x) * test_size)\n",
        "  test_indices = indices[:test_split_size]\n",
        "  train_indices = indices[test_split_size:]\n",
        "\n",
        "  x_train,x_test = x[train_indices],x[test_indices]\n",
        "  y_train,y_test = y[train_indices],y[test_indices]\n",
        "\n",
        "  return x_train, x_test, y_train, y_test\n"
      ],
      "metadata": {
        "id": "fJyzO9Q5yyiA"
      },
      "execution_count": null,
      "outputs": []
    },
    {
      "cell_type": "markdown",
      "source": [
        "##Function for Linear Regression"
      ],
      "metadata": {
        "id": "gJJcK_qNy8Wn"
      }
    },
    {
      "cell_type": "code",
      "source": [
        "def linear_cost_function(x, y, w):\n",
        "  \"\"\" Parameters:\n",
        "  This function finds the Mean Square Error.\n",
        "  Input parameters:\n",
        "  X: Feature Matrix\n",
        "  Y: Target Matrix\n",
        "  W: Weight Matrix\n",
        "  Output Parameters:\n",
        "  cost: accumulated mean square error.\n",
        "  \"\"\"\n",
        "  m = len(y)\n",
        "  y_pred = np.dot(x, w)\n",
        "  error = y_pred - y  # Ensure y is a column vector\n",
        "  cost = (1 / (2 * m)) * np.sum(error ** 2)\n",
        "  return cost\n",
        "\n",
        "def linear_gradient_descent(X, Y, W, learning_rate, epochs):\n",
        "  \"\"\"\n",
        "  Perform gradient descent to optimize the parameters of a linear regression model.\n",
        "  Parameters:\n",
        "  X (numpy.ndarray): Feature matrix (m x n).\n",
        "  Y (numpy.ndarray): Target vector (m x 1).\n",
        "  W (numpy.ndarray): Initial guess for parameters (n x 1).\n",
        "  learning_rate (float): Learning rate.\n",
        "  epochs (int): Number of epochs for gradient descent.\n",
        "  Returns:\n",
        "  tuple: A tuple containing the final optimized parameters (W_update) and the history of cost values\n",
        "  .\n",
        "  W_update (numpy.ndarray): Updated parameters (n x 1).\n",
        "  cost_history (list): History of cost values over epochs.\n",
        "  \"\"\"\n",
        "\n",
        "  cost_history = [0] * epochs\n",
        "\n",
        "  W_update = W\n",
        "  m = len(Y)\n",
        "  for iteration in range(epochs):\n",
        "\n",
        "    Y_pred = np.dot(X,W_update)\n",
        "\n",
        "    loss = Y_pred - Y\n",
        "\n",
        "    dw = (1/m) * np.dot(X.T,loss)\n",
        "\n",
        "\n",
        "    W_update = W_update - learning_rate * dw\n",
        "\n",
        "    cost = linear_cost_function(X, Y, W_update)\n",
        "    cost_history[iteration] = cost\n",
        "  return W_update, cost_history"
      ],
      "metadata": {
        "id": "drQJIxeyy55m"
      },
      "execution_count": null,
      "outputs": []
    },
    {
      "cell_type": "markdown",
      "source": [
        "##Function to calculate errors"
      ],
      "metadata": {
        "id": "FviTTjI3zBkX"
      }
    },
    {
      "cell_type": "code",
      "source": [
        "def mae(Y, Y_pred):\n",
        "    \"\"\"\n",
        "    This function calculates the Mean Absolute Error (MAE).\n",
        "\n",
        "    Input Arguments:\n",
        "    Y: Array of actual (Target) dependent variables.\n",
        "    Y_pred: Array of predicted dependent variables.\n",
        "\n",
        "    Output Arguments:\n",
        "    mae: Mean Absolute Error.\n",
        "    \"\"\"\n",
        "    mae = np.mean(np.abs(Y - Y_pred))\n",
        "    return mae\n",
        "\n",
        "def rmse(Y, Y_pred):\n",
        "  \"\"\"\n",
        "  This Function calculates the Root Mean Squres.\n",
        "  Input Arguments:\n",
        "  Y: Array of actual(Target) Dependent Varaibles.\n",
        "  Y_pred: Array of predeicted Dependent Varaibles.\n",
        "  Output Arguments:\n",
        "  rmse: Root Mean Square.\n",
        "  \"\"\"\n",
        "  rmse = np.sqrt(np.mean((Y-Y_pred)**2))\n",
        "  return rmse\n",
        "\n",
        "\n",
        "def r2(Y, Y_pred):\n",
        "  \"\"\"\n",
        "  This Function calculates the R Squared Error.\n",
        "  Input Arguments:\n",
        "  Y: Array of actual(Target) Dependent Varaibles.\n",
        "  Y_pred: Array of predeicted Dependent Varaibles.\n",
        "  Output Arguments:\n",
        "  rsquared: R Squared Error.\n",
        "  \"\"\"\n",
        "  mean_y = np.mean(Y)\n",
        "  ss_tot = np.sum((Y - mean_y) ** 2)\n",
        "  ss_res = np.sum((Y - Y_pred) ** 2)\n",
        "  r2 = 1 - (ss_res / ss_tot)\n",
        "  return r2"
      ],
      "metadata": {
        "id": "ujaQWwr2y_tO"
      },
      "execution_count": null,
      "outputs": []
    },
    {
      "cell_type": "code",
      "source": [
        "df.head()"
      ],
      "metadata": {
        "colab": {
          "base_uri": "https://localhost:8080/",
          "height": 206
        },
        "id": "sDjG5nNnzJv_",
        "outputId": "ca6e8e86-288b-472c-833d-3e2458faca8c"
      },
      "execution_count": null,
      "outputs": [
        {
          "output_type": "execute_result",
          "data": {
            "text/plain": [
              "   Distance_km Weather Traffic_Level Time_of_Day Vehicle_Type  \\\n",
              "0         7.93   Windy           Low   Afternoon      Scooter   \n",
              "1        16.42   Clear        Medium     Evening         Bike   \n",
              "2         9.52   Foggy           Low       Night      Scooter   \n",
              "3         7.44   Rainy        Medium   Afternoon      Scooter   \n",
              "4        19.03   Clear           Low     Morning         Bike   \n",
              "\n",
              "   Preparation_Time_min  Courier_Experience_yrs  Delivery_Time_min  \n",
              "0                    12                     1.0                 43  \n",
              "1                    20                     2.0                 84  \n",
              "2                    28                     1.0                 59  \n",
              "3                     5                     1.0                 37  \n",
              "4                    16                     5.0                 68  "
            ],
            "text/html": [
              "\n",
              "  <div id=\"df-2be8cea1-7705-4840-982d-aee7f432efef\" class=\"colab-df-container\">\n",
              "    <div>\n",
              "<style scoped>\n",
              "    .dataframe tbody tr th:only-of-type {\n",
              "        vertical-align: middle;\n",
              "    }\n",
              "\n",
              "    .dataframe tbody tr th {\n",
              "        vertical-align: top;\n",
              "    }\n",
              "\n",
              "    .dataframe thead th {\n",
              "        text-align: right;\n",
              "    }\n",
              "</style>\n",
              "<table border=\"1\" class=\"dataframe\">\n",
              "  <thead>\n",
              "    <tr style=\"text-align: right;\">\n",
              "      <th></th>\n",
              "      <th>Distance_km</th>\n",
              "      <th>Weather</th>\n",
              "      <th>Traffic_Level</th>\n",
              "      <th>Time_of_Day</th>\n",
              "      <th>Vehicle_Type</th>\n",
              "      <th>Preparation_Time_min</th>\n",
              "      <th>Courier_Experience_yrs</th>\n",
              "      <th>Delivery_Time_min</th>\n",
              "    </tr>\n",
              "  </thead>\n",
              "  <tbody>\n",
              "    <tr>\n",
              "      <th>0</th>\n",
              "      <td>7.93</td>\n",
              "      <td>Windy</td>\n",
              "      <td>Low</td>\n",
              "      <td>Afternoon</td>\n",
              "      <td>Scooter</td>\n",
              "      <td>12</td>\n",
              "      <td>1.0</td>\n",
              "      <td>43</td>\n",
              "    </tr>\n",
              "    <tr>\n",
              "      <th>1</th>\n",
              "      <td>16.42</td>\n",
              "      <td>Clear</td>\n",
              "      <td>Medium</td>\n",
              "      <td>Evening</td>\n",
              "      <td>Bike</td>\n",
              "      <td>20</td>\n",
              "      <td>2.0</td>\n",
              "      <td>84</td>\n",
              "    </tr>\n",
              "    <tr>\n",
              "      <th>2</th>\n",
              "      <td>9.52</td>\n",
              "      <td>Foggy</td>\n",
              "      <td>Low</td>\n",
              "      <td>Night</td>\n",
              "      <td>Scooter</td>\n",
              "      <td>28</td>\n",
              "      <td>1.0</td>\n",
              "      <td>59</td>\n",
              "    </tr>\n",
              "    <tr>\n",
              "      <th>3</th>\n",
              "      <td>7.44</td>\n",
              "      <td>Rainy</td>\n",
              "      <td>Medium</td>\n",
              "      <td>Afternoon</td>\n",
              "      <td>Scooter</td>\n",
              "      <td>5</td>\n",
              "      <td>1.0</td>\n",
              "      <td>37</td>\n",
              "    </tr>\n",
              "    <tr>\n",
              "      <th>4</th>\n",
              "      <td>19.03</td>\n",
              "      <td>Clear</td>\n",
              "      <td>Low</td>\n",
              "      <td>Morning</td>\n",
              "      <td>Bike</td>\n",
              "      <td>16</td>\n",
              "      <td>5.0</td>\n",
              "      <td>68</td>\n",
              "    </tr>\n",
              "  </tbody>\n",
              "</table>\n",
              "</div>\n",
              "    <div class=\"colab-df-buttons\">\n",
              "\n",
              "  <div class=\"colab-df-container\">\n",
              "    <button class=\"colab-df-convert\" onclick=\"convertToInteractive('df-2be8cea1-7705-4840-982d-aee7f432efef')\"\n",
              "            title=\"Convert this dataframe to an interactive table.\"\n",
              "            style=\"display:none;\">\n",
              "\n",
              "  <svg xmlns=\"http://www.w3.org/2000/svg\" height=\"24px\" viewBox=\"0 -960 960 960\">\n",
              "    <path d=\"M120-120v-720h720v720H120Zm60-500h600v-160H180v160Zm220 220h160v-160H400v160Zm0 220h160v-160H400v160ZM180-400h160v-160H180v160Zm440 0h160v-160H620v160ZM180-180h160v-160H180v160Zm440 0h160v-160H620v160Z\"/>\n",
              "  </svg>\n",
              "    </button>\n",
              "\n",
              "  <style>\n",
              "    .colab-df-container {\n",
              "      display:flex;\n",
              "      gap: 12px;\n",
              "    }\n",
              "\n",
              "    .colab-df-convert {\n",
              "      background-color: #E8F0FE;\n",
              "      border: none;\n",
              "      border-radius: 50%;\n",
              "      cursor: pointer;\n",
              "      display: none;\n",
              "      fill: #1967D2;\n",
              "      height: 32px;\n",
              "      padding: 0 0 0 0;\n",
              "      width: 32px;\n",
              "    }\n",
              "\n",
              "    .colab-df-convert:hover {\n",
              "      background-color: #E2EBFA;\n",
              "      box-shadow: 0px 1px 2px rgba(60, 64, 67, 0.3), 0px 1px 3px 1px rgba(60, 64, 67, 0.15);\n",
              "      fill: #174EA6;\n",
              "    }\n",
              "\n",
              "    .colab-df-buttons div {\n",
              "      margin-bottom: 4px;\n",
              "    }\n",
              "\n",
              "    [theme=dark] .colab-df-convert {\n",
              "      background-color: #3B4455;\n",
              "      fill: #D2E3FC;\n",
              "    }\n",
              "\n",
              "    [theme=dark] .colab-df-convert:hover {\n",
              "      background-color: #434B5C;\n",
              "      box-shadow: 0px 1px 3px 1px rgba(0, 0, 0, 0.15);\n",
              "      filter: drop-shadow(0px 1px 2px rgba(0, 0, 0, 0.3));\n",
              "      fill: #FFFFFF;\n",
              "    }\n",
              "  </style>\n",
              "\n",
              "    <script>\n",
              "      const buttonEl =\n",
              "        document.querySelector('#df-2be8cea1-7705-4840-982d-aee7f432efef button.colab-df-convert');\n",
              "      buttonEl.style.display =\n",
              "        google.colab.kernel.accessAllowed ? 'block' : 'none';\n",
              "\n",
              "      async function convertToInteractive(key) {\n",
              "        const element = document.querySelector('#df-2be8cea1-7705-4840-982d-aee7f432efef');\n",
              "        const dataTable =\n",
              "          await google.colab.kernel.invokeFunction('convertToInteractive',\n",
              "                                                    [key], {});\n",
              "        if (!dataTable) return;\n",
              "\n",
              "        const docLinkHtml = 'Like what you see? Visit the ' +\n",
              "          '<a target=\"_blank\" href=https://colab.research.google.com/notebooks/data_table.ipynb>data table notebook</a>'\n",
              "          + ' to learn more about interactive tables.';\n",
              "        element.innerHTML = '';\n",
              "        dataTable['output_type'] = 'display_data';\n",
              "        await google.colab.output.renderOutput(dataTable, element);\n",
              "        const docLink = document.createElement('div');\n",
              "        docLink.innerHTML = docLinkHtml;\n",
              "        element.appendChild(docLink);\n",
              "      }\n",
              "    </script>\n",
              "  </div>\n",
              "\n",
              "\n",
              "<div id=\"df-26c2acb6-954d-414b-b76b-2e1bdc663dbf\">\n",
              "  <button class=\"colab-df-quickchart\" onclick=\"quickchart('df-26c2acb6-954d-414b-b76b-2e1bdc663dbf')\"\n",
              "            title=\"Suggest charts\"\n",
              "            style=\"display:none;\">\n",
              "\n",
              "<svg xmlns=\"http://www.w3.org/2000/svg\" height=\"24px\"viewBox=\"0 0 24 24\"\n",
              "     width=\"24px\">\n",
              "    <g>\n",
              "        <path d=\"M19 3H5c-1.1 0-2 .9-2 2v14c0 1.1.9 2 2 2h14c1.1 0 2-.9 2-2V5c0-1.1-.9-2-2-2zM9 17H7v-7h2v7zm4 0h-2V7h2v10zm4 0h-2v-4h2v4z\"/>\n",
              "    </g>\n",
              "</svg>\n",
              "  </button>\n",
              "\n",
              "<style>\n",
              "  .colab-df-quickchart {\n",
              "      --bg-color: #E8F0FE;\n",
              "      --fill-color: #1967D2;\n",
              "      --hover-bg-color: #E2EBFA;\n",
              "      --hover-fill-color: #174EA6;\n",
              "      --disabled-fill-color: #AAA;\n",
              "      --disabled-bg-color: #DDD;\n",
              "  }\n",
              "\n",
              "  [theme=dark] .colab-df-quickchart {\n",
              "      --bg-color: #3B4455;\n",
              "      --fill-color: #D2E3FC;\n",
              "      --hover-bg-color: #434B5C;\n",
              "      --hover-fill-color: #FFFFFF;\n",
              "      --disabled-bg-color: #3B4455;\n",
              "      --disabled-fill-color: #666;\n",
              "  }\n",
              "\n",
              "  .colab-df-quickchart {\n",
              "    background-color: var(--bg-color);\n",
              "    border: none;\n",
              "    border-radius: 50%;\n",
              "    cursor: pointer;\n",
              "    display: none;\n",
              "    fill: var(--fill-color);\n",
              "    height: 32px;\n",
              "    padding: 0;\n",
              "    width: 32px;\n",
              "  }\n",
              "\n",
              "  .colab-df-quickchart:hover {\n",
              "    background-color: var(--hover-bg-color);\n",
              "    box-shadow: 0 1px 2px rgba(60, 64, 67, 0.3), 0 1px 3px 1px rgba(60, 64, 67, 0.15);\n",
              "    fill: var(--button-hover-fill-color);\n",
              "  }\n",
              "\n",
              "  .colab-df-quickchart-complete:disabled,\n",
              "  .colab-df-quickchart-complete:disabled:hover {\n",
              "    background-color: var(--disabled-bg-color);\n",
              "    fill: var(--disabled-fill-color);\n",
              "    box-shadow: none;\n",
              "  }\n",
              "\n",
              "  .colab-df-spinner {\n",
              "    border: 2px solid var(--fill-color);\n",
              "    border-color: transparent;\n",
              "    border-bottom-color: var(--fill-color);\n",
              "    animation:\n",
              "      spin 1s steps(1) infinite;\n",
              "  }\n",
              "\n",
              "  @keyframes spin {\n",
              "    0% {\n",
              "      border-color: transparent;\n",
              "      border-bottom-color: var(--fill-color);\n",
              "      border-left-color: var(--fill-color);\n",
              "    }\n",
              "    20% {\n",
              "      border-color: transparent;\n",
              "      border-left-color: var(--fill-color);\n",
              "      border-top-color: var(--fill-color);\n",
              "    }\n",
              "    30% {\n",
              "      border-color: transparent;\n",
              "      border-left-color: var(--fill-color);\n",
              "      border-top-color: var(--fill-color);\n",
              "      border-right-color: var(--fill-color);\n",
              "    }\n",
              "    40% {\n",
              "      border-color: transparent;\n",
              "      border-right-color: var(--fill-color);\n",
              "      border-top-color: var(--fill-color);\n",
              "    }\n",
              "    60% {\n",
              "      border-color: transparent;\n",
              "      border-right-color: var(--fill-color);\n",
              "    }\n",
              "    80% {\n",
              "      border-color: transparent;\n",
              "      border-right-color: var(--fill-color);\n",
              "      border-bottom-color: var(--fill-color);\n",
              "    }\n",
              "    90% {\n",
              "      border-color: transparent;\n",
              "      border-bottom-color: var(--fill-color);\n",
              "    }\n",
              "  }\n",
              "</style>\n",
              "\n",
              "  <script>\n",
              "    async function quickchart(key) {\n",
              "      const quickchartButtonEl =\n",
              "        document.querySelector('#' + key + ' button');\n",
              "      quickchartButtonEl.disabled = true;  // To prevent multiple clicks.\n",
              "      quickchartButtonEl.classList.add('colab-df-spinner');\n",
              "      try {\n",
              "        const charts = await google.colab.kernel.invokeFunction(\n",
              "            'suggestCharts', [key], {});\n",
              "      } catch (error) {\n",
              "        console.error('Error during call to suggestCharts:', error);\n",
              "      }\n",
              "      quickchartButtonEl.classList.remove('colab-df-spinner');\n",
              "      quickchartButtonEl.classList.add('colab-df-quickchart-complete');\n",
              "    }\n",
              "    (() => {\n",
              "      let quickchartButtonEl =\n",
              "        document.querySelector('#df-26c2acb6-954d-414b-b76b-2e1bdc663dbf button');\n",
              "      quickchartButtonEl.style.display =\n",
              "        google.colab.kernel.accessAllowed ? 'block' : 'none';\n",
              "    })();\n",
              "  </script>\n",
              "</div>\n",
              "\n",
              "    </div>\n",
              "  </div>\n"
            ],
            "application/vnd.google.colaboratory.intrinsic+json": {
              "type": "dataframe",
              "variable_name": "df",
              "summary": "{\n  \"name\": \"df\",\n  \"rows\": 912,\n  \"fields\": [\n    {\n      \"column\": \"Distance_km\",\n      \"properties\": {\n        \"dtype\": \"number\",\n        \"std\": 5.692518245207335,\n        \"min\": 0.59,\n        \"max\": 19.99,\n        \"num_unique_values\": 727,\n        \"samples\": [\n          15.98,\n          18.31,\n          9.64\n        ],\n        \"semantic_type\": \"\",\n        \"description\": \"\"\n      }\n    },\n    {\n      \"column\": \"Weather\",\n      \"properties\": {\n        \"dtype\": \"category\",\n        \"num_unique_values\": 5,\n        \"samples\": [\n          \"Clear\",\n          \"Snowy\",\n          \"Foggy\"\n        ],\n        \"semantic_type\": \"\",\n        \"description\": \"\"\n      }\n    },\n    {\n      \"column\": \"Traffic_Level\",\n      \"properties\": {\n        \"dtype\": \"category\",\n        \"num_unique_values\": 3,\n        \"samples\": [\n          \"Low\",\n          \"Medium\",\n          \"High\"\n        ],\n        \"semantic_type\": \"\",\n        \"description\": \"\"\n      }\n    },\n    {\n      \"column\": \"Time_of_Day\",\n      \"properties\": {\n        \"dtype\": \"category\",\n        \"num_unique_values\": 4,\n        \"samples\": [\n          \"Evening\",\n          \"Morning\",\n          \"Afternoon\"\n        ],\n        \"semantic_type\": \"\",\n        \"description\": \"\"\n      }\n    },\n    {\n      \"column\": \"Vehicle_Type\",\n      \"properties\": {\n        \"dtype\": \"category\",\n        \"num_unique_values\": 3,\n        \"samples\": [\n          \"Scooter\",\n          \"Bike\",\n          \"Car\"\n        ],\n        \"semantic_type\": \"\",\n        \"description\": \"\"\n      }\n    },\n    {\n      \"column\": \"Preparation_Time_min\",\n      \"properties\": {\n        \"dtype\": \"number\",\n        \"std\": 7,\n        \"min\": 5,\n        \"max\": 29,\n        \"num_unique_values\": 25,\n        \"samples\": [\n          10,\n          22,\n          12\n        ],\n        \"semantic_type\": \"\",\n        \"description\": \"\"\n      }\n    },\n    {\n      \"column\": \"Courier_Experience_yrs\",\n      \"properties\": {\n        \"dtype\": \"number\",\n        \"std\": 2.8753044981173788,\n        \"min\": 0.0,\n        \"max\": 9.0,\n        \"num_unique_values\": 11,\n        \"samples\": [\n          4.0,\n          1.0,\n          8.0\n        ],\n        \"semantic_type\": \"\",\n        \"description\": \"\"\n      }\n    },\n    {\n      \"column\": \"Delivery_Time_min\",\n      \"properties\": {\n        \"dtype\": \"number\",\n        \"std\": 21,\n        \"min\": 8,\n        \"max\": 141,\n        \"num_unique_values\": 106,\n        \"samples\": [\n          101,\n          76,\n          68\n        ],\n        \"semantic_type\": \"\",\n        \"description\": \"\"\n      }\n    }\n  ]\n}"
            }
          },
          "metadata": {},
          "execution_count": 119
        }
      ]
    },
    {
      "cell_type": "code",
      "source": [
        "df_encoded = pd.get_dummies(df, columns=[\"Weather\", \"Time_of_Day\", \"Traffic_Level\", \"Vehicle_Type\"], dtype=float)\n",
        "\n",
        "# Display the modified DataFrame\n",
        "df_encoded.head()\n",
        "# from sklearn.preprocessing import StandardScaler\n",
        "X = df_encoded.drop(columns=['Distance_km']).values\n",
        "y = df_encoded['Distance_km'].values.reshape(-1, 1)\n",
        "\n",
        "X_train, X_test, Y_train, Y_test = train_test_split_scratch(X, y, test_size=0.2, random_seed=52)\n",
        "\n",
        "\n",
        "W = np.zeros((X_train.shape[1], 1))\n",
        "W_optimal, cost_history = linear_gradient_descent(X_train, Y_train, W, 0.0001, 10000)\n",
        "\n",
        "Y_pred = np.dot(X_test, W_optimal)\n",
        "\n",
        "model_mae = mae(Y_test, Y_pred)\n",
        "model_rmse = rmse(Y_test, Y_pred)\n",
        "model_r2 = r2(Y_test, Y_pred)\n",
        "\n",
        "# Print Results\n",
        "print(\"Cost History (First 10 iterations):\", cost_history[:10])\n",
        "print(\"Mean Absolute Error on Test Set:\", model_mae)\n",
        "print(\"RMSE on Test Set:\", model_rmse)\n",
        "print(\"R-Squared on Test Set:\", model_r2)"
      ],
      "metadata": {
        "colab": {
          "base_uri": "https://localhost:8080/"
        },
        "id": "GOVXZgXjzKZj",
        "outputId": "9ff91d88-5a76-43f9-bcd3-da1b5852e1ba"
      },
      "execution_count": null,
      "outputs": [
        {
          "output_type": "stream",
          "name": "stdout",
          "text": [
            "Cost History (First 10 iterations): [29.189242109913735, 15.215838367624468, 9.991172150346028, 8.028574557001829, 7.282388371143076, 6.989906562785717, 6.866758530188672, 6.806917119618153, 6.77084894910813, 6.7438122655450226]\n",
            "Mean Absolute Error on Test Set: 2.2322437350174265\n",
            "RMSE on Test Set: 3.08992555888802\n",
            "R-Squared on Test Set: 0.7090407364174292\n"
          ]
        }
      ]
    },
    {
      "cell_type": "code",
      "source": [
        "# splitting dataset into train and test sets\n",
        "X = df_encoded.drop(columns=['Delivery_Time_min']).values\n",
        "y = df_encoded['Delivery_Time_min'].values.reshape(-1, 1)\n",
        "\n",
        "\n",
        "X_train, X_test, Y_train, Y_test = train_test_split_scratch(X, y, test_size=0.3, random_seed=52)"
      ],
      "metadata": {
        "id": "s8fB69K7zNil"
      },
      "execution_count": null,
      "outputs": []
    },
    {
      "cell_type": "code",
      "source": [
        "# linear regression model\n",
        "def linear_cost_function(x, y, w):\n",
        "  \"\"\" Parameters:\n",
        "  This function finds the Mean Square Error.\n",
        "  Input parameters:\n",
        "  X: Feature Matrix\n",
        "  Y: Target Matrix\n",
        "  W: Weight Matrix\n",
        "  Output Parameters:\n",
        "  cost: accumulated mean square error.\n",
        "  \"\"\"\n",
        "  m = len(y)\n",
        "  y_pred = np.dot(x, w)\n",
        "  error = y_pred - y  # Ensure y is a column vector\n",
        "  cost = (1 / (2 * m)) * np.sum(error ** 2)\n",
        "  return cost\n",
        "\n",
        "def linear_gradient_descent(X, Y, W, learning_rate, epochs):\n",
        "  \"\"\"\n",
        "  Perform gradient descent to optimize the parameters of a linear regression model.\n",
        "  Parameters:\n",
        "  X (numpy.ndarray): Feature matrix (m x n).\n",
        "  Y (numpy.ndarray): Target vector (m x 1).\n",
        "  W (numpy.ndarray): Initial guess for parameters (n x 1).\n",
        "  learning_rate (float): Learning rate.\n",
        "  epochs (int): Number of epochs for gradient descent.\n",
        "  Returns:\n",
        "  tuple: A tuple containing the final optimized parameters (W_update) and the history of cost values\n",
        "  .\n",
        "  W_update (numpy.ndarray): Updated parameters (n x 1).\n",
        "  cost_history (list): History of cost values over epochs.\n",
        "  \"\"\"\n",
        "\n",
        "  cost_history = [0] * epochs\n",
        "\n",
        "  W_update = W\n",
        "  m = len(Y)\n",
        "  for iteration in range(epochs):\n",
        "\n",
        "    Y_pred = np.dot(X,W_update)\n",
        "\n",
        "    loss = Y_pred - Y\n",
        "\n",
        "    dw = (1/m) * np.dot(X.T,loss)\n",
        "\n",
        "\n",
        "    W_update = W_update - learning_rate * dw\n",
        "\n",
        "    cost = linear_cost_function(X, Y, W_update)\n",
        "    cost_history[iteration] = cost\n",
        "  return W_update, cost_history\n",
        "\n",
        "\n",
        "W = np.zeros((X_train.shape[1], 1))\n",
        "W_optimal, cost_history = linear_gradient_descent(X_train, Y_train, W, 0.0001, 10000)\n",
        "\n",
        "Y_pred = np.dot(X_test, W_optimal)\n",
        "\n",
        "model_mae = mae(Y_test, Y_pred)\n",
        "model_rmse = rmse(Y_test, Y_pred)\n",
        "model_r2 = r2(Y_test, Y_pred)\n",
        "\n",
        "# Print Results\n",
        "print(\"Cost History (First 10 iterations):\", cost_history[:10])\n",
        "print(\"Mean Absolute Error on Test Set:\", model_mae)\n",
        "print(\"RMSE on Test Set:\", model_rmse)\n",
        "print(\"R-Squared on Test Set:\", model_r2)"
      ],
      "metadata": {
        "colab": {
          "base_uri": "https://localhost:8080/"
        },
        "id": "kMu0hQvuMvZP",
        "outputId": "6e6bc8ee-860a-4b5f-b481-9cd389774b46"
      },
      "execution_count": null,
      "outputs": [
        {
          "output_type": "stream",
          "name": "stdout",
          "text": [
            "Cost History (First 10 iterations): [1644.3775111233374, 1512.4179568873042, 1392.1458984675194, 1282.5209429391598, 1182.5953514020496, 1091.505787197088, 1008.4657990304157, 932.7589735540679, 863.732697780991, 800.7924770222664]\n",
            "Mean Absolute Error on Test Set: 7.786070878052336\n",
            "RMSE on Test Set: 12.05152177047667\n",
            "R-Squared on Test Set: 0.7295575053767076\n"
          ]
        }
      ]
    },
    {
      "cell_type": "code",
      "source": [
        "# random forest regressor model\n",
        "from sklearn.ensemble import RandomForestRegressor\n",
        "\n",
        "X = df_encoded.drop(columns=['Delivery_Time_min']).values\n",
        "y = df_encoded['Delivery_Time_min'].values.reshape(-1, 1)\n",
        "\n",
        "\n",
        "X_train, X_test, Y_train, Y_test = train_test_split_scratch(X, y, test_size=0.3, random_seed=52)\n",
        "\n",
        "rf_model = RandomForestRegressor(n_estimators=100, random_state=42)\n",
        "rf_model.fit(X_train, Y_train.ravel())\n",
        "\n",
        "\n",
        "y_pred = rf_model.predict(X_test)\n",
        "\n",
        "# Step 5: Evaluate the Model\n",
        "model_mae = mae(Y_test, y_pred)\n",
        "model_rmse = rmse(Y_test, Y_pred)\n",
        "model_r2 = r2(Y_test, Y_pred)\n",
        "\n",
        "print(f\"Mean Absolute Error (MAE): {model_mae}\")\n",
        "print(f\"Root Mean Squared Error (RMSE): {model_rmse}\")\n",
        "print(f\"R_squared Score: {model_r2}\")\n"
      ],
      "metadata": {
        "colab": {
          "base_uri": "https://localhost:8080/"
        },
        "id": "nt9kmI5gMww1",
        "outputId": "91b916f8-53e3-4bbc-b45d-48656a335dc5"
      },
      "execution_count": null,
      "outputs": [
        {
          "output_type": "stream",
          "name": "stdout",
          "text": [
            "Mean Absolute Error (MAE): 24.171236297280256\n",
            "Root Mean Squared Error (RMSE): 12.05152177047667\n",
            "R_squared Score: 0.7295575053767076\n"
          ]
        }
      ]
    },
    {
      "cell_type": "code",
      "source": [
        "# cross validation for linear regression\n",
        "from sklearn.model_selection import KFold\n",
        "\n",
        "def cross_validate(X, Y, learning_rates, epochs_list, k_folds=5):\n",
        "    \"\"\"\n",
        "    Perform cross-validation to find the best hyperparameters (learning_rate, epochs).\n",
        "\n",
        "    Parameters:\n",
        "    X (numpy.ndarray): Feature matrix (m x n).\n",
        "    Y (numpy.ndarray): Target vector (m x 1).\n",
        "    learning_rates (list): List of learning rates to test.\n",
        "    epochs_list (list): List of epoch values to test.\n",
        "    k_folds (int): Number of folds for cross-validation (default is 5).\n",
        "\n",
        "    Returns:\n",
        "    best_learning_rate (float): Best learning rate based on cross-validation.\n",
        "    best_epochs (int): Best number of epochs based on cross-validation.\n",
        "    \"\"\"\n",
        "\n",
        "    best_cost = float('inf')\n",
        "    best_learning_rate = None\n",
        "    best_epochs = None\n",
        "\n",
        "    kf = KFold(n_splits=k_folds, shuffle=True, random_state=42)\n",
        "\n",
        "    for learning_rate in learning_rates:\n",
        "        for epochs in epochs_list:\n",
        "            total_cost = 0\n",
        "\n",
        "            for train_index, val_index in kf.split(X):\n",
        "                X_train, X_val = X[train_index], X[val_index]\n",
        "                Y_train, Y_val = Y[train_index], Y[val_index]\n",
        "\n",
        "                W_initial = np.zeros((X_train.shape[1], 1))\n",
        "\n",
        "                # Perform gradient descent\n",
        "                W_optimal, _ = linear_gradient_descent(X_train, Y_train, W_initial, learning_rate, epochs)\n",
        "\n",
        "                # Compute cost on validation set\n",
        "                val_cost = linear_cost_function(X_val, Y_val, W_optimal)\n",
        "                total_cost += val_cost\n",
        "\n",
        "\n",
        "            avg_cost = total_cost / k_folds\n",
        "\n",
        "\n",
        "            if avg_cost < best_cost:\n",
        "                best_cost = avg_cost\n",
        "                best_learning_rate = learning_rate\n",
        "                best_epochs = epochs\n",
        "\n",
        "    return best_learning_rate, best_epochs\n",
        "\n",
        "learning_rates = [0.0001, 0.00001]\n",
        "epochs_list = [500, 1000, 2000, 5000, 10000]\n",
        "\n",
        "best_lr, best_epochs = cross_validate(X, y, learning_rates, epochs_list)\n",
        "print(f\"Best learning rate: {best_lr}, Best epochs: {best_epochs}\")"
      ],
      "metadata": {
        "colab": {
          "base_uri": "https://localhost:8080/"
        },
        "id": "8Lp39qSeMyZh",
        "outputId": "2f47789d-a671-4575-d8aa-1b7b50b60f8f"
      },
      "execution_count": null,
      "outputs": [
        {
          "output_type": "stream",
          "name": "stdout",
          "text": [
            "Best learning rate: 0.0001, Best epochs: 10000\n"
          ]
        }
      ]
    },
    {
      "cell_type": "code",
      "source": [
        "from sklearn.model_selection import GridSearchCV\n",
        "param_grid = {\n",
        "    'n_estimators': [50, 100, 200],     # Number of trees\n",
        "    'max_depth': [None, 10, 20, 30],    # Depth of each tree\n",
        "    'min_samples_split': [2, 5, 10],    # Minimum samples to split a node\n",
        "    'min_samples_leaf': [1, 2, 4]       # Minimum samples per leaf\n",
        "}\n",
        "\n",
        "# Perform Grid Search with 5-fold cross-validation\n",
        "grid_search = GridSearchCV(\n",
        "    estimator=rf_model,\n",
        "    param_grid=param_grid,\n",
        "    scoring='neg_mean_squared_error',  # Using MSE as the evaluation metric\n",
        "    cv=5,  # 5-fold cross-validation\n",
        "    n_jobs=-1,  # Use all available CPU cores\n",
        "    verbose=2\n",
        ")\n",
        "\n",
        "# Fit GridSearchCV\n",
        "grid_search.fit(X_train, Y_train.ravel())\n",
        "\n",
        "# Get the best parameters\n",
        "print(\"Best Hyperparameters:\", grid_search.best_params_)"
      ],
      "metadata": {
        "colab": {
          "base_uri": "https://localhost:8080/"
        },
        "id": "jamKZEzZMz42",
        "outputId": "f5663b72-f1eb-4ce5-d25d-24d0d5913067"
      },
      "execution_count": null,
      "outputs": [
        {
          "output_type": "stream",
          "name": "stdout",
          "text": [
            "Fitting 5 folds for each of 108 candidates, totalling 540 fits\n",
            "Best Hyperparameters: {'max_depth': None, 'min_samples_leaf': 2, 'min_samples_split': 5, 'n_estimators': 200}\n"
          ]
        }
      ]
    },
    {
      "cell_type": "code",
      "source": [
        "# for linear regression model\n",
        "\n",
        "from sklearn.linear_model import LinearRegression\n",
        "from sklearn.feature_selection import RFE\n",
        "\n",
        "\n",
        "lr_model = LinearRegression()\n",
        "\n",
        "# Create an RFE object (select top k features)\n",
        "selector = RFE(lr_model, n_features_to_select=5, step=1)  # Adjust n_features_to_select\n",
        "\n",
        "# Fit RFE to the data\n",
        "selector = selector.fit(X, y)\n",
        "\n",
        "selected_features_lr = df_encoded.drop(columns=['Delivery_Time_min']).columns[selector.get_support()]\n",
        "\n",
        "print(\"Selected Features for Linear Regression:\", selected_features_lr)"
      ],
      "metadata": {
        "id": "LxO5qd5EM1CJ"
      },
      "execution_count": null,
      "outputs": []
    },
    {
      "cell_type": "code",
      "source": [
        "# for random forest regressor model\n",
        "\n",
        "rf_model = RandomForestRegressor(random_state=32)\n",
        "rf_model.fit(X, y.ravel())\n",
        "\n",
        "# Get feature importances\n",
        "feature_importances = rf_model.feature_importances_\n",
        "\n",
        "# Create a DataFrame to display feature importances\n",
        "importance_df = pd.DataFrame({'Feature': df_encoded.drop(\"Trip_Price\", axis=1).columns, 'Importance': feature_importances})\n",
        "importance_df = importance_df.sort_values(by='Importance', ascending=False)\n",
        "\n",
        "selected_features_rf = importance_df['Feature'][:5].tolist()\n",
        "\n",
        "print(\"Selected Features for Random Forest Regression:\", selected_features_rf)"
      ],
      "metadata": {
        "id": "FFYf2GqGM3H1",
        "colab": {
          "base_uri": "https://localhost:8080/",
          "height": 356
        },
        "outputId": "913252e7-9587-4ea1-e716-6132f6ed8c8f"
      },
      "execution_count": null,
      "outputs": [
        {
          "output_type": "error",
          "ename": "KeyError",
          "evalue": "\"['Trip_Price'] not found in axis\"",
          "traceback": [
            "\u001b[0;31m---------------------------------------------------------------------------\u001b[0m",
            "\u001b[0;31mKeyError\u001b[0m                                  Traceback (most recent call last)",
            "\u001b[0;32m<ipython-input-126-529b4d4c8fac>\u001b[0m in \u001b[0;36m<cell line: 0>\u001b[0;34m()\u001b[0m\n\u001b[1;32m      8\u001b[0m \u001b[0;34m\u001b[0m\u001b[0m\n\u001b[1;32m      9\u001b[0m \u001b[0;31m# Create a DataFrame to display feature importances\u001b[0m\u001b[0;34m\u001b[0m\u001b[0;34m\u001b[0m\u001b[0m\n\u001b[0;32m---> 10\u001b[0;31m \u001b[0mimportance_df\u001b[0m \u001b[0;34m=\u001b[0m \u001b[0mpd\u001b[0m\u001b[0;34m.\u001b[0m\u001b[0mDataFrame\u001b[0m\u001b[0;34m(\u001b[0m\u001b[0;34m{\u001b[0m\u001b[0;34m'Feature'\u001b[0m\u001b[0;34m:\u001b[0m \u001b[0mdf_encoded\u001b[0m\u001b[0;34m.\u001b[0m\u001b[0mdrop\u001b[0m\u001b[0;34m(\u001b[0m\u001b[0;34m\"Trip_Price\"\u001b[0m\u001b[0;34m,\u001b[0m \u001b[0maxis\u001b[0m\u001b[0;34m=\u001b[0m\u001b[0;36m1\u001b[0m\u001b[0;34m)\u001b[0m\u001b[0;34m.\u001b[0m\u001b[0mcolumns\u001b[0m\u001b[0;34m,\u001b[0m \u001b[0;34m'Importance'\u001b[0m\u001b[0;34m:\u001b[0m \u001b[0mfeature_importances\u001b[0m\u001b[0;34m}\u001b[0m\u001b[0;34m)\u001b[0m\u001b[0;34m\u001b[0m\u001b[0;34m\u001b[0m\u001b[0m\n\u001b[0m\u001b[1;32m     11\u001b[0m \u001b[0mimportance_df\u001b[0m \u001b[0;34m=\u001b[0m \u001b[0mimportance_df\u001b[0m\u001b[0;34m.\u001b[0m\u001b[0msort_values\u001b[0m\u001b[0;34m(\u001b[0m\u001b[0mby\u001b[0m\u001b[0;34m=\u001b[0m\u001b[0;34m'Importance'\u001b[0m\u001b[0;34m,\u001b[0m \u001b[0mascending\u001b[0m\u001b[0;34m=\u001b[0m\u001b[0;32mFalse\u001b[0m\u001b[0;34m)\u001b[0m\u001b[0;34m\u001b[0m\u001b[0;34m\u001b[0m\u001b[0m\n\u001b[1;32m     12\u001b[0m \u001b[0;34m\u001b[0m\u001b[0m\n",
            "\u001b[0;32m/usr/local/lib/python3.11/dist-packages/pandas/core/frame.py\u001b[0m in \u001b[0;36mdrop\u001b[0;34m(self, labels, axis, index, columns, level, inplace, errors)\u001b[0m\n\u001b[1;32m   5579\u001b[0m                 \u001b[0mweight\u001b[0m  \u001b[0;36m1.0\u001b[0m     \u001b[0;36m0.8\u001b[0m\u001b[0;34m\u001b[0m\u001b[0;34m\u001b[0m\u001b[0m\n\u001b[1;32m   5580\u001b[0m         \"\"\"\n\u001b[0;32m-> 5581\u001b[0;31m         return super().drop(\n\u001b[0m\u001b[1;32m   5582\u001b[0m             \u001b[0mlabels\u001b[0m\u001b[0;34m=\u001b[0m\u001b[0mlabels\u001b[0m\u001b[0;34m,\u001b[0m\u001b[0;34m\u001b[0m\u001b[0;34m\u001b[0m\u001b[0m\n\u001b[1;32m   5583\u001b[0m             \u001b[0maxis\u001b[0m\u001b[0;34m=\u001b[0m\u001b[0maxis\u001b[0m\u001b[0;34m,\u001b[0m\u001b[0;34m\u001b[0m\u001b[0;34m\u001b[0m\u001b[0m\n",
            "\u001b[0;32m/usr/local/lib/python3.11/dist-packages/pandas/core/generic.py\u001b[0m in \u001b[0;36mdrop\u001b[0;34m(self, labels, axis, index, columns, level, inplace, errors)\u001b[0m\n\u001b[1;32m   4786\u001b[0m         \u001b[0;32mfor\u001b[0m \u001b[0maxis\u001b[0m\u001b[0;34m,\u001b[0m \u001b[0mlabels\u001b[0m \u001b[0;32min\u001b[0m \u001b[0maxes\u001b[0m\u001b[0;34m.\u001b[0m\u001b[0mitems\u001b[0m\u001b[0;34m(\u001b[0m\u001b[0;34m)\u001b[0m\u001b[0;34m:\u001b[0m\u001b[0;34m\u001b[0m\u001b[0;34m\u001b[0m\u001b[0m\n\u001b[1;32m   4787\u001b[0m             \u001b[0;32mif\u001b[0m \u001b[0mlabels\u001b[0m \u001b[0;32mis\u001b[0m \u001b[0;32mnot\u001b[0m \u001b[0;32mNone\u001b[0m\u001b[0;34m:\u001b[0m\u001b[0;34m\u001b[0m\u001b[0;34m\u001b[0m\u001b[0m\n\u001b[0;32m-> 4788\u001b[0;31m                 \u001b[0mobj\u001b[0m \u001b[0;34m=\u001b[0m \u001b[0mobj\u001b[0m\u001b[0;34m.\u001b[0m\u001b[0m_drop_axis\u001b[0m\u001b[0;34m(\u001b[0m\u001b[0mlabels\u001b[0m\u001b[0;34m,\u001b[0m \u001b[0maxis\u001b[0m\u001b[0;34m,\u001b[0m \u001b[0mlevel\u001b[0m\u001b[0;34m=\u001b[0m\u001b[0mlevel\u001b[0m\u001b[0;34m,\u001b[0m \u001b[0merrors\u001b[0m\u001b[0;34m=\u001b[0m\u001b[0merrors\u001b[0m\u001b[0;34m)\u001b[0m\u001b[0;34m\u001b[0m\u001b[0;34m\u001b[0m\u001b[0m\n\u001b[0m\u001b[1;32m   4789\u001b[0m \u001b[0;34m\u001b[0m\u001b[0m\n\u001b[1;32m   4790\u001b[0m         \u001b[0;32mif\u001b[0m \u001b[0minplace\u001b[0m\u001b[0;34m:\u001b[0m\u001b[0;34m\u001b[0m\u001b[0;34m\u001b[0m\u001b[0m\n",
            "\u001b[0;32m/usr/local/lib/python3.11/dist-packages/pandas/core/generic.py\u001b[0m in \u001b[0;36m_drop_axis\u001b[0;34m(self, labels, axis, level, errors, only_slice)\u001b[0m\n\u001b[1;32m   4828\u001b[0m                 \u001b[0mnew_axis\u001b[0m \u001b[0;34m=\u001b[0m \u001b[0maxis\u001b[0m\u001b[0;34m.\u001b[0m\u001b[0mdrop\u001b[0m\u001b[0;34m(\u001b[0m\u001b[0mlabels\u001b[0m\u001b[0;34m,\u001b[0m \u001b[0mlevel\u001b[0m\u001b[0;34m=\u001b[0m\u001b[0mlevel\u001b[0m\u001b[0;34m,\u001b[0m \u001b[0merrors\u001b[0m\u001b[0;34m=\u001b[0m\u001b[0merrors\u001b[0m\u001b[0;34m)\u001b[0m\u001b[0;34m\u001b[0m\u001b[0;34m\u001b[0m\u001b[0m\n\u001b[1;32m   4829\u001b[0m             \u001b[0;32melse\u001b[0m\u001b[0;34m:\u001b[0m\u001b[0;34m\u001b[0m\u001b[0;34m\u001b[0m\u001b[0m\n\u001b[0;32m-> 4830\u001b[0;31m                 \u001b[0mnew_axis\u001b[0m \u001b[0;34m=\u001b[0m \u001b[0maxis\u001b[0m\u001b[0;34m.\u001b[0m\u001b[0mdrop\u001b[0m\u001b[0;34m(\u001b[0m\u001b[0mlabels\u001b[0m\u001b[0;34m,\u001b[0m \u001b[0merrors\u001b[0m\u001b[0;34m=\u001b[0m\u001b[0merrors\u001b[0m\u001b[0;34m)\u001b[0m\u001b[0;34m\u001b[0m\u001b[0;34m\u001b[0m\u001b[0m\n\u001b[0m\u001b[1;32m   4831\u001b[0m             \u001b[0mindexer\u001b[0m \u001b[0;34m=\u001b[0m \u001b[0maxis\u001b[0m\u001b[0;34m.\u001b[0m\u001b[0mget_indexer\u001b[0m\u001b[0;34m(\u001b[0m\u001b[0mnew_axis\u001b[0m\u001b[0;34m)\u001b[0m\u001b[0;34m\u001b[0m\u001b[0;34m\u001b[0m\u001b[0m\n\u001b[1;32m   4832\u001b[0m \u001b[0;34m\u001b[0m\u001b[0m\n",
            "\u001b[0;32m/usr/local/lib/python3.11/dist-packages/pandas/core/indexes/base.py\u001b[0m in \u001b[0;36mdrop\u001b[0;34m(self, labels, errors)\u001b[0m\n\u001b[1;32m   7068\u001b[0m         \u001b[0;32mif\u001b[0m \u001b[0mmask\u001b[0m\u001b[0;34m.\u001b[0m\u001b[0many\u001b[0m\u001b[0;34m(\u001b[0m\u001b[0;34m)\u001b[0m\u001b[0;34m:\u001b[0m\u001b[0;34m\u001b[0m\u001b[0;34m\u001b[0m\u001b[0m\n\u001b[1;32m   7069\u001b[0m             \u001b[0;32mif\u001b[0m \u001b[0merrors\u001b[0m \u001b[0;34m!=\u001b[0m \u001b[0;34m\"ignore\"\u001b[0m\u001b[0;34m:\u001b[0m\u001b[0;34m\u001b[0m\u001b[0;34m\u001b[0m\u001b[0m\n\u001b[0;32m-> 7070\u001b[0;31m                 \u001b[0;32mraise\u001b[0m \u001b[0mKeyError\u001b[0m\u001b[0;34m(\u001b[0m\u001b[0;34mf\"{labels[mask].tolist()} not found in axis\"\u001b[0m\u001b[0;34m)\u001b[0m\u001b[0;34m\u001b[0m\u001b[0;34m\u001b[0m\u001b[0m\n\u001b[0m\u001b[1;32m   7071\u001b[0m             \u001b[0mindexer\u001b[0m \u001b[0;34m=\u001b[0m \u001b[0mindexer\u001b[0m\u001b[0;34m[\u001b[0m\u001b[0;34m~\u001b[0m\u001b[0mmask\u001b[0m\u001b[0;34m]\u001b[0m\u001b[0;34m\u001b[0m\u001b[0;34m\u001b[0m\u001b[0m\n\u001b[1;32m   7072\u001b[0m         \u001b[0;32mreturn\u001b[0m \u001b[0mself\u001b[0m\u001b[0;34m.\u001b[0m\u001b[0mdelete\u001b[0m\u001b[0;34m(\u001b[0m\u001b[0mindexer\u001b[0m\u001b[0;34m)\u001b[0m\u001b[0;34m\u001b[0m\u001b[0;34m\u001b[0m\u001b[0m\n",
            "\u001b[0;31mKeyError\u001b[0m: \"['Trip_Price'] not found in axis\""
          ]
        }
      ]
    },
    {
      "cell_type": "code",
      "source": [
        "# linear regression model using the optimized hyper-parameters\n",
        "def linear_cost_function(x, y, w):\n",
        "  \"\"\" Parameters:\n",
        "  This function finds the Mean Square Error.\n",
        "  Input parameters:\n",
        "  X: Feature Matrix\n",
        "  Y: Target Matrix\n",
        "  W: Weight Matrix\n",
        "  Output Parameters:\n",
        "  cost: accumulated mean square error.\n",
        "  \"\"\"\n",
        "  m = len(y)\n",
        "  y_pred = np.dot(x, w)\n",
        "  error = y_pred - y  # Ensure y is a column vector\n",
        "  cost = (1 / (2 * m)) * np.sum(error ** 2)\n",
        "  return cost\n",
        "\n",
        "def linear_gradient_descent(X, Y, W, learning_rate, epochs):\n",
        "  \"\"\"\n",
        "  Perform gradient descent to optimize the parameters of a linear regression model.\n",
        "  Parameters:\n",
        "  X (numpy.ndarray): Feature matrix (m x n).\n",
        "  Y (numpy.ndarray): Target vector (m x 1).\n",
        "  W (numpy.ndarray): Initial guess for parameters (n x 1).\n",
        "  learning_rate (float): Learning rate.\n",
        "  epochs (int): Number of epochs for gradient descent.\n",
        "  Returns:\n",
        "  tuple: A tuple containing the final optimized parameters (W_update) and the history of cost values\n",
        "  .\n",
        "  W_update (numpy.ndarray): Updated parameters (n x 1).\n",
        "  cost_history (list): History of cost values over epochs.\n",
        "  \"\"\"\n",
        "\n",
        "  cost_history = [0] * epochs\n",
        "\n",
        "  W_update = W\n",
        "  m = len(Y)\n",
        "  for iteration in range(epochs):\n",
        "\n",
        "    Y_pred = np.dot(X,W_update)\n",
        "\n",
        "    loss = Y_pred - Y\n",
        "\n",
        "    dw = (1/m) * np.dot(X.T,loss)\n",
        "\n",
        "\n",
        "    W_update = W_update - learning_rate * dw\n",
        "\n",
        "    cost = linear_cost_function(X, Y, W_update)\n",
        "    cost_history[iteration] = cost\n",
        "  return W_update, cost_history\n",
        "\n",
        "\n",
        "# selecting the best features\n",
        "X = df_encoded[selected_features_lr].values\n",
        "y = df_encoded['Trip_Price'].values.reshape(-1, 1)\n",
        "\n",
        "# spliting the database\n",
        "X_train, X_test, Y_train, Y_test = train_test_split_scratch(X, y, test_size=0.3, random_seed=52)\n",
        "\n",
        "W = np.zeros((X_train.shape[1], 1))\n",
        "W_optimal, cost_history = linear_gradient_descent(X_train, Y_train, W, 0.0001, 10000)\n",
        "\n",
        "Y_pred = np.dot(X_test, W_optimal)\n",
        "\n",
        "model_mae = mae(Y_test, Y_pred)\n",
        "model_rmse = rmse(Y_test, Y_pred)\n",
        "model_r2 = r2(Y_test, Y_pred)\n",
        "\n",
        "# Print Results\n",
        "print(\"Cost History (First 10 iterations):\", cost_history[:10])\n",
        "print(\"Mean Absolute Error on Test Set:\", model_mae)\n",
        "print(\"RMSE on Test Set:\", model_rmse)\n",
        "print(\"R-Squared on Test Set:\", model_r2)"
      ],
      "metadata": {
        "id": "Uioype9rM4QJ"
      },
      "execution_count": null,
      "outputs": []
    },
    {
      "cell_type": "code",
      "source": [
        "# random forest regressor using the optimized hyper-parameter\n",
        "\n",
        "from sklearn.ensemble import RandomForestRegressor\n",
        "\n",
        "# selecting the best features\n",
        "X = df_encoded[selected_features_rf].values\n",
        "y = df_encoded['Delivery_Time_min'].values.reshape(-1, 1)\n",
        "\n",
        "# spliting the database\n",
        "X_train, X_test, Y_train, Y_test = train_test_split_scratch(X, y, test_size=0.3, random_seed=52)\n",
        "\n",
        "rf_model = RandomForestRegressor(n_estimators=200, max_depth=10, min_samples_leaf=1, min_samples_split=5, random_state=42)\n",
        "rf_model.fit(X_train, Y_train.ravel())\n",
        "\n",
        "y_pred = rf_model.predict(X_test)\n",
        "\n",
        "# Step 5: Evaluate the Model\n",
        "model_mae = mae(Y_test, y_pred)\n",
        "model_rmse = rmse(Y_test, Y_pred)\n",
        "model_r2 = r2(Y_test, Y_pred)\n",
        "\n",
        "print(f\"Mean Absolute Error (MAE): {model_mae}\")\n",
        "print(f\"Root Mean Squared Error (RMSE): {model_rmse}\")\n",
        "print(f\"R_squared Score: {model_r2}\")\n"
      ],
      "metadata": {
        "id": "QDXFU5fiM5Xj"
      },
      "execution_count": null,
      "outputs": []
    },
    {
      "cell_type": "code",
      "source": [],
      "metadata": {
        "id": "-N6hNYzLQh4f"
      },
      "execution_count": null,
      "outputs": []
    }
  ]
}