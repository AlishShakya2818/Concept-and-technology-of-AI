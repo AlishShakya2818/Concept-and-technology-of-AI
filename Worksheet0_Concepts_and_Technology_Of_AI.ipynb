{
 "cells": [
  {
   "cell_type": "code",
   "execution_count": null,
   "id": "70bbba00",
   "metadata": {},
   "outputs": [],
   "source": [
    "#Student Name : Alish Shakya\n",
    "#Worksheet 0"
   ]
  },
  {
   "cell_type": "code",
   "execution_count": null,
   "id": "95af81eb",
   "metadata": {},
   "outputs": [
    {
     "name": "stdout",
     "output_type": "stream",
     "text": [
      "cold: [8.2, 7.9, 9.0, 8.5, 7.7, 8.4, 9.5, 8.1, 7.6, 8.0, 7.8, 8.7, 9.2, 8.3, 8.9, 7.8]\n",
      "mild: [14.1, 13.5, 13.0, 12.9, 13.3, 14.0, 13.4, 14.2, 12.8, 13.7, 13.6, 13.8, 13.9, 12.7, 13.1, 12.5]\n",
      "comfortable: [17.4, 18.0, 17.8, 16.5, 17.2, 16.7, 18.3, 17.9, 17.0, 16.8, 17.5, 17.1, 18.1, 16.4, 18.2, 16.6]\n",
      "\n",
      "It was 16 times cold.\n",
      "It was 16 times mild.\n",
      "It was 16 times comfortable.\n",
      "\n",
      "Fahrenheit: [46.76, 63.32, 57.379999999999995, 46.22, 64.4, 56.3, 48.2, 64.04, 55.4, 47.3, 61.7, 55.22, 45.86, 62.959999999999994, 55.94, 47.120000000000005, 62.059999999999995, 57.2, 49.1, 64.94, 56.120000000000005, 46.58, 64.22, 57.56, 45.68, 62.6, 55.04, 46.4, 62.24, 56.66, 46.04, 63.5, 56.48, 47.66, 62.78, 56.84, 48.56, 64.58, 57.02, 46.94, 61.519999999999996, 54.86, 48.02, 64.75999999999999, 55.58, 46.04, 61.88, 54.5]\n",
      "\n",
      "night: [7.9, 7.7, 7.6, 8.0, 7.8, 7.8]\n",
      "evening: [8.2, 14.1, 13.5, 9.0, 13.0, 8.5, 12.9, 13.3, 8.4, 14.0, 9.5, 13.4, 8.1, 14.2, 12.8, 13.7, 13.6, 8.7, 13.8, 9.2, 13.9, 8.3, 12.7, 8.9, 13.1, 12.5]\n",
      "day: [17.4, 18.0, 17.8, 16.5, 17.2, 16.7, 18.3, 17.9, 17.0, 16.8, 17.5, 17.1, 18.1, 16.4, 18.2, 16.6]\n",
      "\n",
      "Average Day Temperature: 17.34\n",
      "\n"
     ]
    }
   ],
   "source": [
    "#The given temperatures are:\n",
    "temperatures = [8.2, 17.4, 14.1, 7.9, 18.0, 13.5, 9.0, 17.8, 13.0, 8.5,\n",
    "                16.5, 12.9, 7.7, 17.2, 13.3, 8.4, 16.7, 14.0, 9.5, 18.3, 13.4, 8.1,\n",
    "                17.9, 14.2, 7.6, 17.0, 12.8, 8.0, 16.8, 13.7, 7.8, 17.5, 13.6, 8.7,\n",
    "                17.1, 13.8, 9.2, 18.1, 13.9, 8.3, 16.4, 12.7, 8.9, 18.2, 13.1, 7.8,\n",
    "                16.6, 12.5]\n",
    "#Task 1(1)\n",
    "cold = []\n",
    "mild = []\n",
    "comfortable = []\n",
    "\n",
    "#Task 1(2)\n",
    "for temp in temperatures:\n",
    "    if temp < 10:\n",
    "        cold.append(temp)\n",
    "    elif 10 <= temp < 15:\n",
    "        mild.append(temp)\n",
    "    elif 15 <= temp < 20:\n",
    "        comfortable.append(temp)\n",
    "\n",
    "#Task 1(3)\n",
    "print(\"cold:\",cold)\n",
    "print(\"mild:\",mild)\n",
    "print(\"comfortable:\",comfortable)\n",
    "print()\n",
    "\n",
    "#Task 2(1,2,3)\n",
    "print(f\"It was {len(cold)} times cold.\")\n",
    "print(f\"It was {len(mild)} times mild.\")\n",
    "print(f\"It was {len(comfortable)} times comfortable.\")\n",
    "\n",
    "print()\n",
    "\n",
    "#Task 3(1,2,3)\n",
    "fahrenheit_temp=[]\n",
    "\n",
    "for i in temperatures:\n",
    "    temp = ((i*9)/5) + 32\n",
    "    fahrenheit_temp.append(temp)\n",
    "    if i < 10.0: \n",
    "        cold.append(i)\n",
    "    elif i > 10.0 and i < 15.0:\n",
    "        mild.append(i)\n",
    "    else:\n",
    "        comfortable.append(i)\n",
    "\n",
    "print(\"Fahrenheit:\",fahrenheit_temp)\n",
    "print()\n",
    "\n",
    "#Task 4(1)\n",
    "night=[]\n",
    "evening=[]\n",
    "day=[]\n",
    "\n",
    "#Task 4(2)\n",
    "for i in temperatures:\n",
    "    if i<=8.0:\n",
    "        night.append(i)\n",
    "    elif i>8.0 and i<16.0:\n",
    "        evening.append(i)\n",
    "    else:\n",
    "        day.append(i)\n",
    "#Task 4(3)\n",
    "import numpy as np\n",
    "\n",
    "avg_day_temp = round(np.mean(day), 2)\n",
    "\n",
    "print(\"night:\", night)\n",
    "print(\"evening:\",evening)\n",
    "print(\"day:\",day)\n",
    "print()\n",
    "\n",
    "print(f\"Average Day Temperature: {avg_day_temp}\")\n",
    "print()\n"
   ]
  },
  {
   "cell_type": "code",
   "execution_count": null,
   "id": "cffc43d8",
   "metadata": {},
   "outputs": [],
   "source": [
    "#Recursion"
   ]
  },
  {
   "cell_type": "code",
   "execution_count": 1,
   "id": "f9f1ad64",
   "metadata": {},
   "outputs": [
    {
     "name": "stdout",
     "output_type": "stream",
     "text": [
      "The sum of the first list is: 15\n",
      "The sum of the second list is: 36\n"
     ]
    }
   ],
   "source": [
    "#Task1\n",
    "def  sum_of_nested_lists(nested_list):\n",
    "    total = 0\n",
    "    for i in nested_list:\n",
    "        if isinstance(i, list):\n",
    "            total += sum_of_nested_lists(i)\n",
    "        else:\n",
    "            total += i\n",
    "    return total\n",
    "first = sum_of_nested_lists([1,[2,3],[4,[5]]])\n",
    "second = sum_of_nested_lists([1,[2,[3,4],5],6,[7,8]])\n",
    "print(\"The sum of the first list is:\", first)\n",
    "print(\"The sum of the second list is:\", second)"
   ]
  },
  {
   "cell_type": "code",
   "execution_count": null,
   "id": "2c4218dc",
   "metadata": {},
   "outputs": [
    {
     "name": "stdout",
     "output_type": "stream",
     "text": [
      "['abc', 'acb', 'bac', 'bca', 'cab', 'cba']\n",
      "['aab', 'aba', 'aab', 'aba', 'baa', 'baa']\n"
     ]
    }
   ],
   "source": [
    "#Task2\n",
    "def generate_permutations(s):\n",
    "    if len(s) == 1:\n",
    "        return [s]\n",
    "    permutation = []\n",
    "    for i in range(len(s)):\n",
    "        char = s[i]\n",
    "        remaning = s[:i]+s[i+1:]\n",
    "        for j in generate_permutations(remaning):\n",
    "            permutation.append(char+j)\n",
    "    return permutation\n",
    "\n",
    "print(generate_permutations(\"abc\"))\n",
    "print(generate_permutations(\"aab\"))"
   ]
  },
  {
   "cell_type": "code",
   "execution_count": null,
   "id": "0a3a0a38",
   "metadata": {},
   "outputs": [
    {
     "name": "stdout",
     "output_type": "stream",
     "text": [
      "The total size of directory structure is 1400 KB\n"
     ]
    }
   ],
   "source": [
    "#Task3\n",
    "#Sample directory structure\n",
    "directory_structure={\n",
    " \"file1.txt\":200,\n",
    " \"file2.txt\":300,\n",
    " \"subdir1\":{\n",
    " \"file3.txt\":400,\n",
    " \"file4.txt\":100\n",
    " },\n",
    " \"subdir2\":{\n",
    " \"subsubdir1\":{\n",
    " \"file5.txt\":250\n",
    " },\n",
    " \"file6.txt\": 150\n",
    " }\n",
    "}\n",
    "\n",
    "def  calculate_directory_size(directory):\n",
    "    total_size = 0\n",
    "    for i in directory.values():\n",
    "        if isinstance(i, dict):\n",
    "            total_size += calculate_directory_size(i)\n",
    "        else:\n",
    "            total_size += i\n",
    "    return total_size\n",
    "\n",
    "size = calculate_directory_size(directory_structure)\n",
    "print(f\"The total size of directory structure is {size} KB\")"
   ]
  },
  {
   "cell_type": "code",
   "execution_count": null,
   "id": "df6ddd92",
   "metadata": {},
   "outputs": [],
   "source": [
    "#Dynamic Programming"
   ]
  },
  {
   "cell_type": "code",
   "execution_count": 6,
   "id": "b553fd10",
   "metadata": {},
   "outputs": [
    {
     "name": "stdout",
     "output_type": "stream",
     "text": [
      "The minimum number of coins needed to make 11 is 3\n"
     ]
    }
   ],
   "source": [
    "#Task1\n",
    "coin = [1,2,5]\n",
    "amount = 11\n",
    "def min_coins(coins, amount):\n",
    "    coins = sorted(coins, reverse=True)\n",
    "    if amount == 0:\n",
    "        return 0\n",
    "    dp = [float('inf')] * (amount +1)\n",
    "    dp[0] = 0\n",
    "    for i in range(1, amount+1):\n",
    "        for coin in coins:\n",
    "            if i - coin >= 0:\n",
    "                dp[i] = min(dp[i], dp[i - coin] + 1)\n",
    "    if dp[amount] > 0:\n",
    "        return dp[amount]\n",
    "    else:\n",
    "        return -1\n",
    "    \n",
    "min_coins(coin, amount)\n",
    "print(f\"The minimum number of coins needed to make {amount} is {min_coins(coin,amount)}\")"
   ]
  },
  {
   "cell_type": "code",
   "execution_count": 9,
   "id": "60614b85",
   "metadata": {},
   "outputs": [
    {
     "name": "stdout",
     "output_type": "stream",
     "text": [
      "The longest common subsequence of abcde and ace is 3\n"
     ]
    }
   ],
   "source": [
    "#Task2\n",
    "def longest_common_subsequence(s1,s2):\n",
    "    m, n = len(s1), len(s2)\n",
    "    dp = [] \n",
    "    for i in range(m + 1): \n",
    "        dp.append([0] * (n + 1))\n",
    "        \n",
    "    for i in range(m + 1):\n",
    "        for j in range(n + 1):\n",
    "            if i == 0 or j == 0:\n",
    "                dp[i][j]=0\n",
    "            elif s1[i - 1] == s2[j - 1]:\n",
    "                dp[i][j] = dp[i - 1][j - 1]+1\n",
    "            else: \n",
    "                dp[i][j] = max(dp[i - 1][j], dp[i][j - 1])\n",
    "    return dp[m][n]\n",
    "s1 = \"abcde\"\n",
    "s2 = \"ace\"\n",
    "result = longest_common_subsequence(s1,s2)   \n",
    "print(f\"The longest common subsequence of {s1} and {s2} is {result}\")"
   ]
  },
  {
   "cell_type": "code",
   "execution_count": 11,
   "id": "353cc3d7",
   "metadata": {},
   "outputs": [
    {
     "name": "stdout",
     "output_type": "stream",
     "text": [
      "The maximum capacity that can be achieved within 7 is 9\n"
     ]
    }
   ],
   "source": [
    "#Task3\n",
    "def knapsack(weights, values, capacity):\n",
    "    n = len(weights)\n",
    "    dp = [[0] * (capacity + 1) for _ in range(n + 1)]\n",
    "\n",
    "    for i in range(1, n + 1):\n",
    "        for w in range(1, capacity + 1):\n",
    "            if weights[i - 1] <= w:\n",
    "                dp[i][w] = max(values[i - 1] + dp[i - 1][w - weights[i - 1]], dp[i - 1][w])\n",
    "            else:\n",
    "                dp[i][w] = dp[i - 1][w]\n",
    "\n",
    "    return dp[n][capacity]\n",
    "capacity = 7\n",
    "result = knapsack([1, 3, 4, 5], [1, 4, 5, 7], capacity)\n",
    "print(f\"The maximum capacity that can be achieved within {capacity} is {result}\")"
   ]
  }
 ],
 "metadata": {
  "kernelspec": {
   "display_name": "Python 3 (ipykernel)",
   "language": "python",
   "name": "python3"
  },
  "language_info": {
   "codemirror_mode": {
    "name": "ipython",
    "version": 3
   },
   "file_extension": ".py",
   "mimetype": "text/x-python",
   "name": "python",
   "nbconvert_exporter": "python",
   "pygments_lexer": "ipython3",
   "version": "3.11.5"
  }
 },
 "nbformat": 4,
 "nbformat_minor": 5
}
